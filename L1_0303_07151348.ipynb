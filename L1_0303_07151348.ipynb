{
 "cells": [
  {
   "cell_type": "markdown",
   "metadata": {},
   "source": [
    "監督式學習supervised \n",
    "Y=a+bx=…..(outcome:y  labele data(features):x\n",
    "Labeled data\n",
    "\n",
    "非監督式學習\n",
    "主要差別是沒有y 只有一堆x \n",
    "\n",
    "numpy數字的處理\n",
    "pandas資料變動\n",
    "matplotlib畫圖工具\n",
    "seaborn畫圖工具\n",
    "\n",
    "\n",
    "安裝套件\n",
    "1.\t命令提示字元 cmd\n",
    "Pip onstall packagename\n",
    "2.\tJupyter notebook\n",
    "!pip install packagename\n",
    "\n",
    "\n",
    "Python 要執行要按shift+enter才會執行(enter只會跳下伊會執行)\n",
    "Alt +enter會加一欄\n",
    "\n",
    "綠色書是還在跑的意思 所以存了後不能直接關掉 要關\n",
    "法一file的最下close 按下去\n",
    "法二 ctrl+c\n",
    "\n",
    "Os是程式碼  python 一般會打程式碼加.再加要做的事\n",
    "Ex:\n",
    "Import os\n",
    "Os.getcwd()#取得檔案路徑\n",
    "\n",
    "\n",
    "Markdowm頁面可以做筆記\n",
    "#是最大字體\n",
    "Ex;#hello word(井字號越多 字越小)\n",
    "\n",
    "\n",
    "定義變數 \n",
    "等號左變是給的變數\n",
    "Ex:x=1\n",
    "\n",
    "type(1):想知道1這個是甚麼樣的類型\n",
    "int(整數)\n",
    "\n",
    "type(1.5):float 小數點\n",
    "\n",
    "type(‘hello):str(字串)\n",
    "\n",
    "&and\n",
    "| or\n",
    "\n",
    "\n",
    "\n",
    "\n",
    "\n",
    "Python中 第一個位置不是1是0\n",
    "若字串很長 想看最後一個位置是甚麼\n",
    "就打l[-1]\n",
    "\n",
    "假設a是遺失值不想要了\n",
    "就可以l[0]=’NEW’\n",
    "\n",
    "跳著叫我的數值\n",
    "l[1:7:2]  : 跳兩格叫 1357\n",
    "\n",
    "append(加數值)\n",
    "extend(延伸)\n",
    "\n",
    "st.lower()全部小寫\n",
    "st.upper()全部大寫\n",
    "st.split()全部拆開\n",
    "\n",
    "\n",
    "\n",
    "\n"
   ]
  },
  {
   "cell_type": "markdown",
   "metadata": {},
   "source": [
    "list_1=['a', 'b', 'c', 'd']"
   ]
  },
  {
   "cell_type": "code",
   "execution_count": 11,
   "metadata": {},
   "outputs": [
    {
     "data": {
      "text/plain": [
       "['a', 'b', 'c', 'd']"
      ]
     },
     "execution_count": 11,
     "metadata": {},
     "output_type": "execute_result"
    }
   ],
   "source": [
    " list_1"
   ]
  },
  {
   "cell_type": "markdown",
   "metadata": {},
   "source": [
    " list_1* 5"
   ]
  },
  {
   "cell_type": "code",
   "execution_count": 13,
   "metadata": {},
   "outputs": [],
   "source": [
    "list_1.reverse( )"
   ]
  },
  {
   "cell_type": "code",
   "execution_count": 14,
   "metadata": {},
   "outputs": [
    {
     "data": {
      "text/plain": [
       "['d', 'c', 'b', 'a']"
      ]
     },
     "execution_count": 14,
     "metadata": {},
     "output_type": "execute_result"
    }
   ],
   "source": [
    "list_1"
   ]
  },
  {
   "cell_type": "code",
   "execution_count": 15,
   "metadata": {},
   "outputs": [],
   "source": [
    "list_1.remove('c')"
   ]
  },
  {
   "cell_type": "code",
   "execution_count": 16,
   "metadata": {},
   "outputs": [
    {
     "data": {
      "text/plain": [
       "['d', 'b', 'a']"
      ]
     },
     "execution_count": 16,
     "metadata": {},
     "output_type": "execute_result"
    }
   ],
   "source": [
    "list_1"
   ]
  },
  {
   "cell_type": "code",
   "execution_count": 17,
   "metadata": {},
   "outputs": [],
   "source": [
    "list_1.insert(1,'f')"
   ]
  },
  {
   "cell_type": "code",
   "execution_count": 18,
   "metadata": {},
   "outputs": [
    {
     "data": {
      "text/plain": [
       "['d', 'f', 'b', 'a']"
      ]
     },
     "execution_count": 18,
     "metadata": {},
     "output_type": "execute_result"
    }
   ],
   "source": [
    "list_1"
   ]
  },
  {
   "cell_type": "markdown",
   "metadata": {},
   "source": []
  }
 ],
 "metadata": {
  "kernelspec": {
   "display_name": "Python 3",
   "language": "python",
   "name": "python3"
  },
  "language_info": {
   "codemirror_mode": {
    "name": "ipython",
    "version": 3
   },
   "file_extension": ".py",
   "mimetype": "text/x-python",
   "name": "python",
   "nbconvert_exporter": "python",
   "pygments_lexer": "ipython3",
   "version": "3.8.5"
  }
 },
 "nbformat": 4,
 "nbformat_minor": 4
}
